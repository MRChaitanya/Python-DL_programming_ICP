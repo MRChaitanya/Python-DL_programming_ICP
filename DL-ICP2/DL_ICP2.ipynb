{
  "nbformat": 4,
  "nbformat_minor": 0,
  "metadata": {
    "colab": {
      "name": "DL-ICP2.ipynb",
      "provenance": []
    },
    "kernelspec": {
      "name": "python3",
      "display_name": "Python 3"
    },
    "accelerator": "GPU"
  },
  "cells": [
    {
      "cell_type": "markdown",
      "metadata": {
        "id": "OfI1eOEvnr2f",
        "colab_type": "text"
      },
      "source": [
        "**From uper Menu choose:**\n",
        "---\n",
        "Runtime --> Change runtime type:\n",
        "---\n",
        "change Hardare accelerator to (gpu)"
      ]
    },
    {
      "cell_type": "code",
      "metadata": {
        "id": "Ry7NRUf0llQ8",
        "colab_type": "code",
        "colab": {
          "base_uri": "https://localhost:8080/",
          "height": 118
        },
        "outputId": "800dbfc7-803a-4b20-dc74-efb54ce1b779"
      },
      "source": [
        "%tensorflow_version 1.15\n",
        "import tensorflow as tf\n",
        "from keras import Sequential\n",
        "from keras.datasets import mnist\n",
        "import numpy as np\n",
        "from keras.layers import Dense\n",
        "from keras.utils import to_categorical"
      ],
      "execution_count": 1,
      "outputs": [
        {
          "output_type": "stream",
          "text": [
            "`%tensorflow_version` only switches the major version: 1.x or 2.x.\n",
            "You set: `1.15`. This will be interpreted as: `1.x`.\n",
            "\n",
            "\n",
            "TensorFlow 1.x selected.\n"
          ],
          "name": "stdout"
        },
        {
          "output_type": "stream",
          "text": [
            "Using TensorFlow backend.\n"
          ],
          "name": "stderr"
        }
      ]
    },
    {
      "cell_type": "code",
      "metadata": {
        "id": "XReLyY3jlr-R",
        "colab_type": "code",
        "colab": {
          "base_uri": "https://localhost:8080/",
          "height": 50
        },
        "outputId": "650a2ff2-ba71-44a4-8065-1af236bbbb58"
      },
      "source": [
        "(train_images,train_labels),(test_images, test_labels) = mnist.load_data()"
      ],
      "execution_count": 2,
      "outputs": [
        {
          "output_type": "stream",
          "text": [
            "Downloading data from https://s3.amazonaws.com/img-datasets/mnist.npz\n",
            "11493376/11490434 [==============================] - 1s 0us/step\n"
          ],
          "name": "stdout"
        }
      ]
    },
    {
      "cell_type": "code",
      "metadata": {
        "id": "RrEOE2a_luF1",
        "colab_type": "code",
        "colab": {
          "base_uri": "https://localhost:8080/",
          "height": 34
        },
        "outputId": "d8c1fa3d-ded8-42d9-d0e7-80dc1f0cc890"
      },
      "source": [
        "print(train_images.shape[1:])"
      ],
      "execution_count": 3,
      "outputs": [
        {
          "output_type": "stream",
          "text": [
            "(28, 28)\n"
          ],
          "name": "stdout"
        }
      ]
    },
    {
      "cell_type": "markdown",
      "metadata": {
        "id": "oi1noKXWl0E4",
        "colab_type": "text"
      },
      "source": [
        "#process the data\n",
        "#1. convert each image of shape 28*28 to 784 dimensional which will be fed to the network as a single feature"
      ]
    },
    {
      "cell_type": "code",
      "metadata": {
        "id": "3KcvF2qFlwhr",
        "colab_type": "code",
        "outputId": "3d1e8829-bbb1-4b41-ff75-c4d8b6570276",
        "colab": {
          "base_uri": "https://localhost:8080/",
          "height": 34
        }
      },
      "source": [
        "dimData = np.prod(train_images.shape[1:])\n",
        "print(dimData)\n",
        "train_data = train_images.reshape(train_images.shape[0],dimData)\n",
        "test_data = test_images.reshape(test_images.shape[0],dimData)"
      ],
      "execution_count": 5,
      "outputs": [
        {
          "output_type": "stream",
          "text": [
            "784\n"
          ],
          "name": "stdout"
        }
      ]
    },
    {
      "cell_type": "markdown",
      "metadata": {
        "id": "CI3BKhj0l3fd",
        "colab_type": "text"
      },
      "source": [
        "#convert data to float and scale values between 0 and 1"
      ]
    },
    {
      "cell_type": "code",
      "metadata": {
        "id": "G_XcNfVfl1jH",
        "colab_type": "code",
        "colab": {}
      },
      "source": [
        "train_data = train_data.astype('float')\n",
        "test_data = test_data.astype('float')"
      ],
      "execution_count": 0,
      "outputs": []
    },
    {
      "cell_type": "markdown",
      "metadata": {
        "id": "ODdo3u8Ql8c8",
        "colab_type": "text"
      },
      "source": [
        "#scale data"
      ]
    },
    {
      "cell_type": "code",
      "metadata": {
        "id": "nky9C9FMl7BU",
        "colab_type": "code",
        "colab": {}
      },
      "source": [
        "train_data /=255.0\n",
        "test_data /=255.0"
      ],
      "execution_count": 0,
      "outputs": []
    },
    {
      "cell_type": "markdown",
      "metadata": {
        "id": "PVc9dRURl_oo",
        "colab_type": "text"
      },
      "source": [
        "#change the labels frominteger to one-hot encoding. to_categorical is doing the same thing as LabelEncoder()"
      ]
    },
    {
      "cell_type": "code",
      "metadata": {
        "id": "iGTKxNyYl-nE",
        "colab_type": "code",
        "colab": {}
      },
      "source": [
        "train_labels_one_hot = to_categorical(train_labels)\n",
        "test_labels_one_hot = to_categorical(test_labels)"
      ],
      "execution_count": 0,
      "outputs": []
    },
    {
      "cell_type": "markdown",
      "metadata": {
        "id": "1YFoN0z6mEbR",
        "colab_type": "text"
      },
      "source": [
        "#creating network"
      ]
    },
    {
      "cell_type": "code",
      "metadata": {
        "id": "9ui43p57mCgk",
        "colab_type": "code",
        "colab": {}
      },
      "source": [
        "model = Sequential()\n",
        "model.add(Dense(512, activation='relu', input_shape=(dimData,)))\n",
        "model.add(Dense(512, activation='relu'))\n",
        "model.add(Dense(10, activation='softmax'))"
      ],
      "execution_count": 0,
      "outputs": []
    },
    {
      "cell_type": "markdown",
      "metadata": {
        "id": "538_9WbGmp5a",
        "colab_type": "text"
      },
      "source": [
        "# Compile model"
      ]
    },
    {
      "cell_type": "code",
      "metadata": {
        "id": "ck4tEWPMmG0j",
        "colab_type": "code",
        "colab": {
          "base_uri": "https://localhost:8080/",
          "height": 84
        },
        "outputId": "be00bd9b-bef8-45c0-9dff-3f637b3e2db7"
      },
      "source": [
        "model.compile(optimizer='rmsprop', loss='categorical_crossentropy', metrics=['accuracy'])"
      ],
      "execution_count": 11,
      "outputs": [
        {
          "output_type": "stream",
          "text": [
            "WARNING:tensorflow:From /usr/local/lib/python3.6/dist-packages/keras/optimizers.py:793: The name tf.train.Optimizer is deprecated. Please use tf.compat.v1.train.Optimizer instead.\n",
            "\n",
            "WARNING:tensorflow:From /usr/local/lib/python3.6/dist-packages/keras/backend/tensorflow_backend.py:3576: The name tf.log is deprecated. Please use tf.math.log instead.\n",
            "\n"
          ],
          "name": "stdout"
        }
      ]
    },
    {
      "cell_type": "code",
      "metadata": {
        "id": "rsNP_elemr_i",
        "colab_type": "code",
        "colab": {
          "base_uri": "https://localhost:8080/",
          "height": 370
        },
        "outputId": "c523c8a7-62d6-4373-cd8a-47291506d757"
      },
      "source": [
        "history = model.fit(train_data, train_labels_one_hot, batch_size=256, epochs=10, verbose=1,\n",
        "                   validation_data=(test_data, test_labels_one_hot))"
      ],
      "execution_count": 13,
      "outputs": [
        {
          "output_type": "stream",
          "text": [
            "Train on 60000 samples, validate on 10000 samples\n",
            "Epoch 1/10\n",
            "60000/60000 [==============================] - 1s 18us/step - loss: 0.0082 - acc: 0.9972 - val_loss: 0.0951 - val_acc: 0.9825\n",
            "Epoch 2/10\n",
            "60000/60000 [==============================] - 1s 18us/step - loss: 0.0078 - acc: 0.9974 - val_loss: 0.1223 - val_acc: 0.9760\n",
            "Epoch 3/10\n",
            "60000/60000 [==============================] - 1s 18us/step - loss: 0.0068 - acc: 0.9978 - val_loss: 0.1081 - val_acc: 0.9819\n",
            "Epoch 4/10\n",
            "60000/60000 [==============================] - 1s 18us/step - loss: 0.0067 - acc: 0.9977 - val_loss: 0.0999 - val_acc: 0.9822\n",
            "Epoch 5/10\n",
            "60000/60000 [==============================] - 1s 18us/step - loss: 0.0065 - acc: 0.9981 - val_loss: 0.1000 - val_acc: 0.9823\n",
            "Epoch 6/10\n",
            "60000/60000 [==============================] - 1s 18us/step - loss: 0.0057 - acc: 0.9983 - val_loss: 0.1117 - val_acc: 0.9819\n",
            "Epoch 7/10\n",
            "60000/60000 [==============================] - 1s 18us/step - loss: 0.0040 - acc: 0.9987 - val_loss: 0.1226 - val_acc: 0.9816\n",
            "Epoch 8/10\n",
            "60000/60000 [==============================] - 1s 18us/step - loss: 0.0043 - acc: 0.9987 - val_loss: 0.1088 - val_acc: 0.9837\n",
            "Epoch 9/10\n",
            "60000/60000 [==============================] - 1s 18us/step - loss: 0.0045 - acc: 0.9987 - val_loss: 0.1281 - val_acc: 0.9815\n",
            "Epoch 10/10\n",
            "60000/60000 [==============================] - 1s 17us/step - loss: 0.0049 - acc: 0.9987 - val_loss: 0.1307 - val_acc: 0.9810\n"
          ],
          "name": "stdout"
        }
      ]
    },
    {
      "cell_type": "code",
      "metadata": {
        "id": "Ld87-pHSnODK",
        "colab_type": "code",
        "colab": {
          "base_uri": "https://localhost:8080/",
          "height": 1000
        },
        "outputId": "7f1922cd-e6d1-41e1-9f99-547e79066734"
      },
      "source": [
        "from keras import Sequential\n",
        "from keras.datasets import mnist\n",
        "import numpy as np\n",
        "import matplotlib.pyplot as plt\n",
        "from keras.layers import Dense\n",
        "from keras.utils import to_categorical\n",
        "\n",
        "(train_images,train_labels),(test_images, test_labels) = mnist.load_data()\n",
        "#display the first image in the training data\n",
        "plt.imshow(train_images[0,:,:],cmap='gray')\n",
        "plt.title('Ground Truth : {}'.format(train_labels[0]))\n",
        "plt.show()\n",
        "\n",
        "#process the data\n",
        "#1. convert each image of shape 28*28 to 784 dimensional which will be fed to the network as a single feature\n",
        "dimData = np.prod(train_images.shape[1:])\n",
        "train_data = train_images.reshape(train_images.shape[0],dimData)\n",
        "test_data = test_images.reshape(test_images.shape[0],dimData)\n",
        "\n",
        "#convert data to float and scale values between 0 and 1\n",
        "train_data = train_data.astype('float')\n",
        "test_data = test_data.astype('float')\n",
        "#scale data\n",
        "train_data /=255.0\n",
        "test_data /=255.0\n",
        "#change the labels frominteger to one-hot encoding\n",
        "train_labels_one_hot = to_categorical(train_labels)\n",
        "test_labels_one_hot = to_categorical(test_labels)\n",
        "\n",
        "#creating network\n",
        "model = Sequential()\n",
        "model.add(Dense(512, activation='relu', input_shape=(dimData,)))\n",
        "model.add(Dense(512, activation='relu'))\n",
        "model.add(Dense(10, activation='softmax'))\n",
        "\n",
        "model.compile(optimizer='rmsprop', loss='categorical_crossentropy', metrics=['accuracy'])\n",
        "history = model.fit(train_data, train_labels_one_hot, batch_size=256, epochs=5, verbose=1,\n",
        "                   validation_data=(test_data, test_labels_one_hot))\n",
        "\n",
        "print(model.predict_classes(test_data[[0],:]))\n",
        "plt.imshow(test_images[0,:,:],cmap='gray')\n",
        "plt.title('Prediction : '+str((model.predict_classes(test_data[[0],:]))[0]))\n",
        "plt.show()\n",
        "\n",
        "[test_loss, test_acc] = model.evaluate(test_data, test_labels_one_hot)\n",
        "print(\"Evaluation result on Test Data : Loss = {}, accuracy = {}\".format(test_loss, test_acc))\n",
        "\n",
        "N = 5\n",
        "plt.style.use(\"ggplot\")\n",
        "plt.figure()\n",
        "plt.plot(np.arange(0, N), history.history[\"loss\"], label=\"train_loss\")\n",
        "plt.plot(np.arange(0, N), history.history[\"val_loss\"], label=\"test_loss\")\n",
        "plt.plot(np.arange(0, N), history.history[\"acc\"], label=\"train_acc\")\n",
        "plt.plot(np.arange(0, N), history.history[\"val_acc\"], label=\"test_acc\")\n",
        "plt.title(\"Training Loss and Accuracy on Dataset\")\n",
        "plt.xlabel(\"Epoch #\")\n",
        "plt.ylabel(\"Loss/Accuracy\")\n",
        "plt.legend(loc=\"lower left\")\n",
        "plt.show()"
      ],
      "execution_count": 14,
      "outputs": [
        {
          "output_type": "display_data",
          "data": {
            "image/png": "[encoded data removed]",
            "text/plain": [
              "<Figure size 432x288 with 1 Axes>"
            ]
          },
          "metadata": {
            "tags": []
          }
        },
        {
          "output_type": "stream",
          "text": [
            "Train on 60000 samples, validate on 10000 samples\n",
            "Epoch 1/5\n",
            "60000/60000 [==============================] - 1s 20us/step - loss: 0.2687 - acc: 0.9167 - val_loss: 0.1206 - val_acc: 0.9619\n",
            "Epoch 2/5\n",
            "60000/60000 [==============================] - 1s 17us/step - loss: 0.0923 - acc: 0.9713 - val_loss: 0.1095 - val_acc: 0.9649\n",
            "Epoch 3/5\n",
            "60000/60000 [==============================] - 1s 17us/step - loss: 0.0564 - acc: 0.9823 - val_loss: 0.0820 - val_acc: 0.9753\n",
            "Epoch 4/5\n",
            "60000/60000 [==============================] - 1s 17us/step - loss: 0.0387 - acc: 0.9874 - val_loss: 0.0679 - val_acc: 0.9797\n",
            "Epoch 5/5\n",
            "60000/60000 [==============================] - 1s 16us/step - loss: 0.0291 - acc: 0.9907 - val_loss: 0.0786 - val_acc: 0.9781\n",
            "[7]\n"
          ],
          "name": "stdout"
        },
        {
          "output_type": "display_data",
          "data": {
            "image/png": "[encoded data removed]",
            "text/plain": [
              "<Figure size 432x288 with 1 Axes>"
            ]
          },
          "metadata": {
            "tags": []
          }
        },
        {
          "output_type": "stream",
          "text": [
            "10000/10000 [==============================] - 0s 37us/step\n",
            "Evaluation result on Test Data : Loss = 0.07864738675060216, accuracy = 0.9781\n"
          ],
          "name": "stdout"
        },
        {
          "output_type": "display_data",
          "data": {
            "image/png": "[encoded data removed]",
            "text/plain": [
              "<Figure size 432x288 with 1 Axes>"
            ]
          },
          "metadata": {
            "tags": []
          }
        }
      ]
    },
    {
      "cell_type": "code",
      "metadata": {
        "id": "5dmbW_-Y_vXY",
        "colab_type": "code",
        "colab": {
          "base_uri": "https://localhost:8080/",
          "height": 1000
        },
        "outputId": "b374e8e7-ee7b-4f47-c2a7-bb7ae91bfc14"
      },
      "source": [
        "from keras import Sequential\n",
        "from keras.datasets import mnist\n",
        "import numpy as np\n",
        "import matplotlib.pyplot as plt\n",
        "from keras.layers import Dense\n",
        "from keras.utils import to_categorical\n",
        "\n",
        "(train_images,train_labels),(test_images, test_labels) = mnist.load_data()\n",
        "#display the first image in the training data\n",
        "plt.imshow(train_images[0,:,:],cmap='gray')\n",
        "plt.title('Ground Truth : {}'.format(train_labels[0]))\n",
        "plt.show()\n",
        "\n",
        "#process the data\n",
        "#1. convert each image of shape 28*28 to 784 dimensional which will be fed to the network as a single feature\n",
        "dimData = np.prod(train_images.shape[1:])\n",
        "train_data = train_images.reshape(train_images.shape[0],dimData)\n",
        "test_data = test_images.reshape(test_images.shape[0],dimData)\n",
        "\n",
        "#convert data to float and scale values between 0 and 1\n",
        "train_data = train_data.astype('float')\n",
        "test_data = test_data.astype('float')\n",
        "#scale data\n",
        "train_data /=255.0\n",
        "test_data /=255.0\n",
        "#change the labels frominteger to one-hot encoding\n",
        "train_labels_one_hot = to_categorical(train_labels)\n",
        "test_labels_one_hot = to_categorical(test_labels)\n",
        "\n",
        "#creating network\n",
        "model = Sequential()\n",
        "model.add(Dense(512, activation='tanh', input_shape=(dimData,)))\n",
        "model.add(Dense(512, activation='tanh'))\n",
        "model.add(Dense(512, activation='tanh'))\n",
        "model.add(Dense(10, activation='softmax'))\n",
        "\n",
        "model.compile(optimizer='rmsprop', loss='categorical_crossentropy', metrics=['accuracy'])\n",
        "history = model.fit(train_data, train_labels_one_hot, batch_size=256, epochs=5, verbose=1,\n",
        "                   validation_data=(test_data, test_labels_one_hot))\n",
        "\n",
        "print(model.predict_classes(test_data[[0],:]))\n",
        "plt.imshow(test_images[0,:,:],cmap='gray')\n",
        "plt.title('Prediction : '+str((model.predict_classes(test_data[[0],:]))[0]))\n",
        "plt.show()\n",
        "\n",
        "[test_loss, test_acc] = model.evaluate(test_data, test_labels_one_hot)\n",
        "print(\"Evaluation result on Test Data : Loss = {}, accuracy = {}\".format(test_loss, test_acc))\n",
        "\n",
        "N = 5\n",
        "plt.style.use(\"ggplot\")\n",
        "plt.figure()\n",
        "plt.plot(np.arange(0, N), history.history[\"loss\"], label=\"train_loss\")\n",
        "plt.plot(np.arange(0, N), history.history[\"val_loss\"], label=\"test_loss\")\n",
        "plt.plot(np.arange(0, N), history.history[\"acc\"], label=\"train_acc\")\n",
        "plt.plot(np.arange(0, N), history.history[\"val_acc\"], label=\"test_acc\")\n",
        "plt.title(\"Training Loss and Accuracy on Dataset\")\n",
        "plt.xlabel(\"Epoch #\")\n",
        "plt.ylabel(\"Loss/Accuracy\")\n",
        "plt.legend(loc=\"lower left\")\n",
        "plt.show()"
      ],
      "execution_count": 15,
      "outputs": [
        {
          "output_type": "display_data",
          "data": {
            "image/png": "[encoded data removed]",
            "text/plain": [
              "<Figure size 432x288 with 1 Axes>"
            ]
          },
          "metadata": {
            "tags": []
          }
        },
        {
          "output_type": "stream",
          "text": [
            "Train on 60000 samples, validate on 10000 samples\n",
            "Epoch 1/5\n",
            "60000/60000 [==============================] - 1s 24us/step - loss: 0.4004 - acc: 0.8776 - val_loss: 0.2173 - val_acc: 0.9344\n",
            "Epoch 2/5\n",
            "60000/60000 [==============================] - 1s 19us/step - loss: 0.1526 - acc: 0.9535 - val_loss: 0.1209 - val_acc: 0.9624\n",
            "Epoch 3/5\n",
            "60000/60000 [==============================] - 1s 19us/step - loss: 0.0971 - acc: 0.9697 - val_loss: 0.1082 - val_acc: 0.9664\n",
            "Epoch 4/5\n",
            "60000/60000 [==============================] - 1s 20us/step - loss: 0.0685 - acc: 0.9779 - val_loss: 0.0776 - val_acc: 0.9752\n",
            "Epoch 5/5\n",
            "60000/60000 [==============================] - 1s 19us/step - loss: 0.0496 - acc: 0.9848 - val_loss: 0.1241 - val_acc: 0.9628\n",
            "[7]\n"
          ],
          "name": "stdout"
        },
        {
          "output_type": "display_data",
          "data": {
            "image/png": "[encoded data removed]",
            "text/plain": [
              "<Figure size 432x288 with 1 Axes>"
            ]
          },
          "metadata": {
            "tags": []
          }
        },
        {
          "output_type": "stream",
          "text": [
            "10000/10000 [==============================] - 0s 37us/step\n",
            "Evaluation result on Test Data : Loss = 0.12413988910727203, accuracy = 0.9628\n"
          ],
          "name": "stdout"
        },
        {
          "output_type": "display_data",
          "data": {
            "image/png": "[encoded data removed]",
            "text/plain": [
              "<Figure size 432x288 with 1 Axes>"
            ]
          },
          "metadata": {
            "tags": []
          }
        }
      ]
    },
    {
      "cell_type": "code",
      "metadata": {
        "id": "RZbVRWkFALj4",
        "colab_type": "code",
        "colab": {
          "base_uri": "https://localhost:8080/",
          "height": 782
        },
        "outputId": "4791a271-40d4-4548-8ce6-8561c72b3066"
      },
      "source": [
        "from keras import Sequential\n",
        "from keras.datasets import mnist\n",
        "import numpy as np\n",
        "import matplotlib.pyplot as plt\n",
        "from keras.layers import Dense\n",
        "from keras.utils import to_categorical\n",
        "\n",
        "(train_images,train_labels),(test_images, test_labels) = mnist.load_data()\n",
        "#display the first image in the training data\n",
        "plt.imshow(train_images[0,:,:],cmap='gray')\n",
        "plt.title('Ground Truth : {}'.format(train_labels[0]))\n",
        "plt.show()\n",
        "\n",
        "#process the data\n",
        "#1. convert each image of shape 28*28 to 784 dimensional which will be fed to the network as a single feature\n",
        "dimData = np.prod(train_images.shape[1:])\n",
        "train_data = train_images.reshape(train_images.shape[0],dimData)\n",
        "test_data = test_images.reshape(test_images.shape[0],dimData)\n",
        "\n",
        "#convert data to float and scale values between 0 and 1\n",
        "train_data = train_data.astype('float')\n",
        "test_data = test_data.astype('float')\n",
        "#change the labels frominteger to one-hot encoding\n",
        "train_labels_one_hot = to_categorical(train_labels)\n",
        "test_labels_one_hot = to_categorical(test_labels)\n",
        "\n",
        "#creating network\n",
        "model = Sequential()\n",
        "model.add(Dense(512, activation='relu', input_shape=(dimData,)))\n",
        "model.add(Dense(512, activation='relu'))\n",
        "model.add(Dense(10, activation='softmax'))\n",
        "\n",
        "model.compile(optimizer='rmsprop', loss='categorical_crossentropy', metrics=['accuracy'])\n",
        "history = model.fit(train_data, train_labels_one_hot, batch_size=256, epochs=5, verbose=1,\n",
        "                   validation_data=(test_data, test_labels_one_hot))\n",
        "\n",
        "print(model.predict_classes(test_data[[0],:]))\n",
        "plt.imshow(test_images[0,:,:],cmap='gray')\n",
        "plt.title('Prediction : '+str((model.predict_classes(test_data[[0],:]))[0]))\n",
        "plt.show()\n",
        "\n",
        "[test_loss, test_acc] = model.evaluate(test_data, test_labels_one_hot)\n",
        "print(\"Evaluation result on Test Data : Loss = {}, accuracy = {}\".format(test_loss, test_acc))"
      ],
      "execution_count": 17,
      "outputs": [
        {
          "output_type": "display_data",
          "data": {
            "image/png": "[encoded data removed]",
            "text/plain": [
              "<Figure size 432x288 with 1 Axes>"
            ]
          },
          "metadata": {
            "tags": []
          }
        },
        {
          "output_type": "stream",
          "text": [
            "Train on 60000 samples, validate on 10000 samples\n",
            "Epoch 1/5\n",
            "60000/60000 [==============================] - 2s 25us/step - loss: 10.3138 - acc: 0.3593 - val_loss: 9.6855 - val_acc: 0.3989\n",
            "Epoch 2/5\n",
            "60000/60000 [==============================] - 1s 18us/step - loss: 9.7480 - acc: 0.3949 - val_loss: 9.6627 - val_acc: 0.4005\n",
            "Epoch 3/5\n",
            "60000/60000 [==============================] - 1s 19us/step - loss: 9.7425 - acc: 0.3953 - val_loss: 9.7197 - val_acc: 0.3969\n",
            "Epoch 4/5\n",
            "60000/60000 [==============================] - 1s 18us/step - loss: 9.7272 - acc: 0.3963 - val_loss: 9.7516 - val_acc: 0.3949\n",
            "Epoch 5/5\n",
            "60000/60000 [==============================] - 1s 18us/step - loss: 9.7472 - acc: 0.3951 - val_loss: 9.6913 - val_acc: 0.3985\n",
            "[7]\n"
          ],
          "name": "stdout"
        },
        {
          "output_type": "display_data",
          "data": {
            "image/png": "[encoded data removed]",
            "text/plain": [
              "<Figure size 432x288 with 1 Axes>"
            ]
          },
          "metadata": {
            "tags": []
          }
        },
        {
          "output_type": "stream",
          "text": [
            "10000/10000 [==============================] - 0s 40us/step\n",
            "Evaluation result on Test Data : Loss = 9.691287426757812, accuracy = 0.3985\n"
          ],
          "name": "stdout"
        }
      ]
    },
    {
      "cell_type": "code",
      "metadata": {
        "id": "wMPJ8lhbIvQD",
        "colab_type": "code",
        "colab": {
          "base_uri": "https://localhost:8080/",
          "height": 820
        },
        "outputId": "48b36ebf-88f0-4b0e-c528-bdce8611ba04"
      },
      "source": [
        "import tensorflow as tf\n",
        "from tensorflow import keras\n",
        "from keras import Sequential\n",
        "from keras.datasets import mnist\n",
        "import numpy as np\n",
        "import matplotlib.pyplot as plt\n",
        "from keras.layers import Input\n",
        "from keras.models import Model\n",
        "from keras.layers import Dense\n",
        "from keras.utils import to_categorical\n",
        "\n",
        "(train_images,train_labels),(test_images, test_labels) = mnist.load_data()\n",
        "#display the first image in the training data\n",
        "plt.imshow(train_images[0,:,:],cmap='gray')\n",
        "plt.title('Ground Truth : {}'.format(train_labels[0]))\n",
        "plt.show()\n",
        "\n",
        "#process the data\n",
        "#1. convert each image of shape 28*28 to 784 dimensional which will be fed to the network as a single feature\n",
        "dimData = np.prod(train_images.shape[1:])\n",
        "train_data = train_images.reshape(train_images.shape[0],dimData)\n",
        "test_data = test_images.reshape(test_images.shape[0],dimData)\n",
        "\n",
        "#convert data to float and scale values between 0 and 1\n",
        "train_data = train_data.astype('float')\n",
        "test_data = test_data.astype('float')\n",
        "#scale data\n",
        "train_data /=255.0\n",
        "test_data /=255.0\n",
        "#change the labels frominteger to one-hot encoding\n",
        "train_labels_one_hot = to_categorical(train_labels)\n",
        "test_labels_one_hot = to_categorical(test_labels)\n",
        "\n",
        "#creating network\n",
        "visible = Input(shape=(dimData,))\n",
        "hidden = Dense(dimData)(visible)\n",
        "model = Model(inputs=visible, outputs=hidden)\n",
        "hidden1 = Dense(512, activation='relu')(visible)\n",
        "hidden2 = Dense(512, activation='relu')(hidden1)\n",
        "hidden3 = Dense(512, activation='relu')(hidden2)\n",
        "output = Dense(10, activation='sigmoid')(hidden3)\n",
        "model = Model(inputs=visible, outputs=output)\n",
        "# summarize layers\n",
        "print(model.summary())\n",
        "# plot graph\n",
        "model.compile(optimizer='rmsprop', loss='categorical_crossentropy', metrics=['accuracy'])\n",
        "history = model.fit(train_data, train_labels_one_hot, batch_size=256, epochs=5, verbose=1,\n",
        "                   validation_data=(test_data, test_labels_one_hot))\n",
        "\n",
        "# print(model.predict_classes(test_data[[0],:]))\n",
        "\n",
        "[test_loss, test_acc] = model.evaluate(test_data, test_labels_one_hot)\n",
        "print(\"Evaluation result on Test Data : Loss = {}, accuracy = {}\".format(test_loss, test_acc))"
      ],
      "execution_count": 37,
      "outputs": [
        {
          "output_type": "display_data",
          "data": {
            "image/png": "[encoded data removed]",
            "text/plain": [
              "<Figure size 432x288 with 1 Axes>"
            ]
          },
          "metadata": {
            "tags": []
          }
        },
        {
          "output_type": "stream",
          "text": [
            "Model: \"model_18\"\n",
            "_________________________________________________________________\n",
            "Layer (type)                 Output Shape              Param #   \n",
            "=================================================================\n",
            "input_10 (InputLayer)        (None, 784)               0         \n",
            "_________________________________________________________________\n",
            "dense_62 (Dense)             (None, 512)               401920    \n",
            "_________________________________________________________________\n",
            "dense_63 (Dense)             (None, 512)               262656    \n",
            "_________________________________________________________________\n",
            "dense_64 (Dense)             (None, 512)               262656    \n",
            "_________________________________________________________________\n",
            "dense_65 (Dense)             (None, 10)                5130      \n",
            "=================================================================\n",
            "Total params: 932,362\n",
            "Trainable params: 932,362\n",
            "Non-trainable params: 0\n",
            "_________________________________________________________________\n",
            "None\n",
            "Train on 60000 samples, validate on 10000 samples\n",
            "Epoch 1/5\n",
            "60000/60000 [==============================] - 2s 29us/step - loss: 0.3289 - acc: 0.8985 - val_loss: 0.1404 - val_acc: 0.9576\n",
            "Epoch 2/5\n",
            "60000/60000 [==============================] - 1s 19us/step - loss: 0.1031 - acc: 0.9688 - val_loss: 0.0975 - val_acc: 0.9688\n",
            "Epoch 3/5\n",
            "60000/60000 [==============================] - 1s 20us/step - loss: 0.0647 - acc: 0.9799 - val_loss: 0.0849 - val_acc: 0.9756\n",
            "Epoch 4/5\n",
            "60000/60000 [==============================] - 1s 20us/step - loss: 0.0473 - acc: 0.9855 - val_loss: 0.0717 - val_acc: 0.9811\n",
            "Epoch 5/5\n",
            "60000/60000 [==============================] - 1s 19us/step - loss: 0.0348 - acc: 0.9895 - val_loss: 0.0699 - val_acc: 0.9801\n",
            "10000/10000 [==============================] - 0s 48us/step\n",
            "Evaluation result on Test Data : Loss = 0.06985130431185389, accuracy = 0.9801\n"
          ],
          "name": "stdout"
        }
      ]
    }
  ]
}