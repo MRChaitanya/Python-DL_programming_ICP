{
  "nbformat": 4,
  "nbformat_minor": 0,
  "metadata": {
    "colab": {
      "name": "Project_INC1.ipynb",
      "provenance": [],
      "machine_shape": "hm"
    },
    "kernelspec": {
      "name": "python3",
      "display_name": "Python 3"
    }
  },
  "cells": [
    {
      "cell_type": "code",
      "metadata": {
        "id": "8yDrgHAebyd5",
        "colab_type": "code",
        "outputId": "396d7252-b3f7-4f52-e862-7f43cba63799",
        "colab": {
          "base_uri": "https://localhost:8080/",
          "height": 70
        }
      },
      "source": [
        "import numpy as np \n",
        "import pandas as pd \n",
        "import matplotlib.pyplot as plt\n",
        "import seaborn as sns\n",
        "import sklearn as sklearn\n",
        "from sklearn.preprocessing import LabelEncoder"
      ],
      "execution_count": 2,
      "outputs": [
        {
          "output_type": "stream",
          "text": [
            "/usr/local/lib/python3.6/dist-packages/statsmodels/tools/_testing.py:19: FutureWarning: pandas.util.testing is deprecated. Use the functions in the public API at pandas.testing instead.\n",
            "  import pandas.util.testing as tm\n"
          ],
          "name": "stderr"
        }
      ]
    },
    {
      "cell_type": "code",
      "metadata": {
        "id": "u6MU20B8dNmk",
        "colab_type": "code",
        "colab": {}
      },
      "source": [
        "data = pd.read_csv('/content/drive/My Drive/US_Accidents_Dec19.csv')"
      ],
      "execution_count": 0,
      "outputs": []
    },
    {
      "cell_type": "code",
      "metadata": {
        "id": "itzeStVweXrD",
        "colab_type": "code",
        "colab": {}
      },
      "source": [
        "data[:10]"
      ],
      "execution_count": 0,
      "outputs": []
    },
    {
      "cell_type": "code",
      "metadata": {
        "id": "BdRe1uhkev3p",
        "colab_type": "code",
        "outputId": "26f1cc6f-ea4e-4fad-f8eb-b23a277a49f0",
        "colab": {
          "base_uri": "https://localhost:8080/",
          "height": 218
        }
      },
      "source": [
        "data.columns"
      ],
      "execution_count": 0,
      "outputs": [
        {
          "output_type": "execute_result",
          "data": {
            "text/plain": [
              "Index(['ID', 'Source', 'TMC', 'Severity', 'Start_Time', 'End_Time',\n",
              "       'Start_Lat', 'Start_Lng', 'End_Lat', 'End_Lng', 'Distance(mi)',\n",
              "       'Description', 'Number', 'Street', 'Side', 'City', 'County', 'State',\n",
              "       'Zipcode', 'Country', 'Timezone', 'Airport_Code', 'Weather_Timestamp',\n",
              "       'Temperature(F)', 'Wind_Chill(F)', 'Humidity(%)', 'Pressure(in)',\n",
              "       'Visibility(mi)', 'Wind_Direction', 'Wind_Speed(mph)',\n",
              "       'Precipitation(in)', 'Weather_Condition', 'Amenity', 'Bump', 'Crossing',\n",
              "       'Give_Way', 'Junction', 'No_Exit', 'Railway', 'Roundabout', 'Station',\n",
              "       'Stop', 'Traffic_Calming', 'Traffic_Signal', 'Turning_Loop',\n",
              "       'Sunrise_Sunset', 'Civil_Twilight', 'Nautical_Twilight',\n",
              "       'Astronomical_Twilight'],\n",
              "      dtype='object')"
            ]
          },
          "metadata": {
            "tags": []
          },
          "execution_count": 3
        }
      ]
    },
    {
      "cell_type": "code",
      "metadata": {
        "id": "DpIurNLMj4T7",
        "colab_type": "code",
        "outputId": "938660d2-fe6a-4bf1-eed5-9665777207e5",
        "colab": {
          "base_uri": "https://localhost:8080/",
          "height": 34
        }
      },
      "source": [
        "data.isnull().sum().count()"
      ],
      "execution_count": 5,
      "outputs": [
        {
          "output_type": "execute_result",
          "data": {
            "text/plain": [
              "49"
            ]
          },
          "metadata": {
            "tags": []
          },
          "execution_count": 5
        }
      ]
    },
    {
      "cell_type": "code",
      "metadata": {
        "id": "WnwCi6jzhowb",
        "colab_type": "code",
        "colab": {
          "base_uri": "https://localhost:8080/",
          "height": 857
        },
        "outputId": "8459b8f7-9128-4885-b02f-3ab9790bc866"
      },
      "source": [
        "data.isnull().sum()"
      ],
      "execution_count": 6,
      "outputs": [
        {
          "output_type": "execute_result",
          "data": {
            "text/plain": [
              "ID                             0\n",
              "Source                         0\n",
              "TMC                       728071\n",
              "Severity                       0\n",
              "Start_Time                     0\n",
              "End_Time                       0\n",
              "Start_Lat                      0\n",
              "Start_Lng                      0\n",
              "End_Lat                  2246264\n",
              "End_Lng                  2246264\n",
              "Distance(mi)                   0\n",
              "Description                    1\n",
              "Number                   1917605\n",
              "Street                         0\n",
              "Side                           0\n",
              "City                          83\n",
              "County                         0\n",
              "State                          0\n",
              "Zipcode                      880\n",
              "Country                        0\n",
              "Timezone                    3163\n",
              "Airport_Code                5691\n",
              "Weather_Timestamp          36705\n",
              "Temperature(F)             56063\n",
              "Wind_Chill(F)            1852623\n",
              "Humidity(%)                59173\n",
              "Pressure(in)               48142\n",
              "Visibility(mi)             65691\n",
              "Wind_Direction             45101\n",
              "Wind_Speed(mph)           440840\n",
              "Precipitation(in)        1998358\n",
              "Weather_Condition          65932\n",
              "Amenity                        0\n",
              "Bump                           0\n",
              "Crossing                       0\n",
              "Give_Way                       0\n",
              "Junction                       0\n",
              "No_Exit                        0\n",
              "Railway                        0\n",
              "Roundabout                     0\n",
              "Station                        0\n",
              "Stop                           0\n",
              "Traffic_Calming                0\n",
              "Traffic_Signal                 0\n",
              "Turning_Loop                   0\n",
              "Sunrise_Sunset                93\n",
              "Civil_Twilight                93\n",
              "Nautical_Twilight             93\n",
              "Astronomical_Twilight         93\n",
              "dtype: int64"
            ]
          },
          "metadata": {
            "tags": []
          },
          "execution_count": 6
        }
      ]
    },
    {
      "cell_type": "code",
      "metadata": {
        "id": "pHqMCzvGi9u0",
        "colab_type": "code",
        "colab": {}
      },
      "source": [
        "data = data.select_dtypes(include=[np.number])\n",
        "features = list(data.columns)\n"
      ],
      "execution_count": 0,
      "outputs": []
    },
    {
      "cell_type": "code",
      "metadata": {
        "id": "oncKJE4Hrwzu",
        "colab_type": "code",
        "colab": {}
      },
      "source": [
        "le = LabelEncoder()\n",
        "\n",
        "for i in features:\n",
        "    data[i] = le.fit_transform(data[i])\n",
        "data = data.select_dtypes(include=[np.number]).interpolate().fillna(data.select_dtypes(include=[np.number]).interpolate().mean(axis=0))\n"
      ],
      "execution_count": 0,
      "outputs": []
    },
    {
      "cell_type": "code",
      "metadata": {
        "id": "_FS0V1rWt1BC",
        "colab_type": "code",
        "outputId": "4215f046-3bee-4ffa-9e83-0c239f6262f1",
        "colab": {
          "base_uri": "https://localhost:8080/",
          "height": 286
        }
      },
      "source": [
        "data.isnull().sum()"
      ],
      "execution_count": 12,
      "outputs": [
        {
          "output_type": "execute_result",
          "data": {
            "text/plain": [
              "TMC                  0\n",
              "Severity             0\n",
              "Start_Lat            0\n",
              "Start_Lng            0\n",
              "End_Lat              0\n",
              "End_Lng              0\n",
              "Distance(mi)         0\n",
              "Number               0\n",
              "Temperature(F)       0\n",
              "Wind_Chill(F)        0\n",
              "Humidity(%)          0\n",
              "Pressure(in)         0\n",
              "Visibility(mi)       0\n",
              "Wind_Speed(mph)      0\n",
              "Precipitation(in)    0\n",
              "dtype: int64"
            ]
          },
          "metadata": {
            "tags": []
          },
          "execution_count": 12
        }
      ]
    },
    {
      "cell_type": "code",
      "metadata": {
        "id": "NOtaIshIm_Lh",
        "colab_type": "code",
        "outputId": "6227111c-a3c5-429a-fed8-f3566b376e86",
        "colab": {
          "base_uri": "https://localhost:8080/",
          "height": 609
        }
      },
      "source": [
        "states = data.State.unique()\n",
        "count_by_state=[]\n",
        "for i in data.State.unique():\n",
        "    count_by_state.append(data[data['State']==i].count()['ID'])\n",
        "plt.figure(figsize=(16,10))\n",
        "sns.barplot(states, count_by_state)"
      ],
      "execution_count": 0,
      "outputs": [
        {
          "output_type": "execute_result",
          "data": {
            "text/plain": [
              "<matplotlib.axes._subplots.AxesSubplot at 0x7f93f0ae1ba8>"
            ]
          },
          "metadata": {
            "tags": []
          },
          "execution_count": 27
        },
        {
          "output_type": "display_data",
          "data": {
            "image/png": "[encoded data removed]",
            "text/plain": [
              "<Figure size 1152x720 with 1 Axes>"
            ]
          },
          "metadata": {
            "tags": [],
            "needs_background": "light"
          }
        }
      ]
    },
    {
      "cell_type": "code",
      "metadata": {
        "id": "_u_1YoAEuhjd",
        "colab_type": "code",
        "outputId": "05d3bc91-414d-4bfb-cecd-a9399c78e09f",
        "colab": {
          "base_uri": "https://localhost:8080/",
          "height": 195
        }
      },
      "source": [
        "df_state=data.groupby(['State'], as_index=False).count().iloc[:,:2]\n",
        "# Rename the column that make more sence\n",
        "df_state=df_state.rename(columns={\"ID\":\"NrAccidents\"})\n",
        "# sort by number of accidents\n",
        "df_state.sort_values(by=['NrAccidents'], ascending=False, inplace=True)\n",
        "df_state.head()"
      ],
      "execution_count": 0,
      "outputs": [
        {
          "output_type": "execute_result",
          "data": {
            "text/html": [
              "<div>\n",
              "<style scoped>\n",
              "    .dataframe tbody tr th:only-of-type {\n",
              "        vertical-align: middle;\n",
              "    }\n",
              "\n",
              "    .dataframe tbody tr th {\n",
              "        vertical-align: top;\n",
              "    }\n",
              "\n",
              "    .dataframe thead th {\n",
              "        text-align: right;\n",
              "    }\n",
              "</style>\n",
              "<table border=\"1\" class=\"dataframe\">\n",
              "  <thead>\n",
              "    <tr style=\"text-align: right;\">\n",
              "      <th></th>\n",
              "      <th>State</th>\n",
              "      <th>NrAccidents</th>\n",
              "    </tr>\n",
              "  </thead>\n",
              "  <tbody>\n",
              "    <tr>\n",
              "      <th>3</th>\n",
              "      <td>CA</td>\n",
              "      <td>663204</td>\n",
              "    </tr>\n",
              "    <tr>\n",
              "      <th>41</th>\n",
              "      <td>TX</td>\n",
              "      <td>298062</td>\n",
              "    </tr>\n",
              "    <tr>\n",
              "      <th>8</th>\n",
              "      <td>FL</td>\n",
              "      <td>223746</td>\n",
              "    </tr>\n",
              "    <tr>\n",
              "      <th>38</th>\n",
              "      <td>SC</td>\n",
              "      <td>146689</td>\n",
              "    </tr>\n",
              "    <tr>\n",
              "      <th>25</th>\n",
              "      <td>NC</td>\n",
              "      <td>142460</td>\n",
              "    </tr>\n",
              "  </tbody>\n",
              "</table>\n",
              "</div>"
            ],
            "text/plain": [
              "   State  NrAccidents\n",
              "3     CA       663204\n",
              "41    TX       298062\n",
              "8     FL       223746\n",
              "38    SC       146689\n",
              "25    NC       142460"
            ]
          },
          "metadata": {
            "tags": []
          },
          "execution_count": 11
        }
      ]
    },
    {
      "cell_type": "code",
      "metadata": {
        "id": "Ppu8mvbQXrVn",
        "colab_type": "code",
        "outputId": "3c6af50f-3f7a-4089-f556-c486612bee59",
        "colab": {
          "base_uri": "https://localhost:8080/",
          "height": 608
        }
      },
      "source": [
        "fig, ax=plt.subplots(figsize=(16,7))\n",
        "data['Weather_Condition'].value_counts().sort_values(ascending=False).head(5).plot.bar(width=0.5,edgecolor='k',align='center',linewidth=2)\n",
        "plt.xlabel('Weather_Condition',fontsize=20)\n",
        "plt.ylabel('Number of Accidents',fontsize=20)\n",
        "ax.tick_params(labelsize=20)\n",
        "plt.title('5 Top Weather Condition for accidents',fontsize=25)\n",
        "plt.grid()\n",
        "plt.ioff()"
      ],
      "execution_count": 0,
      "outputs": [
        {
          "output_type": "display_data",
          "data": {
            "image/png": "[encoded data removed]",
            "text/plain": [
              "<Figure size 1152x504 with 1 Axes>"
            ]
          },
          "metadata": {
            "tags": [],
            "needs_background": "light"
          }
        }
      ]
    },
    {
      "cell_type": "code",
      "metadata": {
        "id": "2YP12r0Zh-IN",
        "colab_type": "code",
        "colab": {}
      },
      "source": [
        "feature_lst=['Source','TMC','Severity','Start_Lng','Start_Lat','Distance(mi)','Side','City','County','State','Timezone','Temperature(F)','Humidity(%)','Pressure(in)', 'Visibility(mi)', 'Wind_Direction','Weather_Condition','Amenity','Bump','Crossing','Give_Way','Junction','No_Exit','Railway','Roundabout','Station','Stop','Traffic_Calming','Traffic_Signal','Turning_Loop','Sunrise_Sunset']"
      ],
      "execution_count": 0,
      "outputs": []
    },
    {
      "cell_type": "code",
      "metadata": {
        "id": "XCnbtnSUiFUr",
        "colab_type": "code",
        "colab": {}
      },
      "source": [
        "df = data[feature_lst].copy()"
      ],
      "execution_count": 0,
      "outputs": []
    },
    {
      "cell_type": "code",
      "metadata": {
        "id": "ALUCABAOhTDH",
        "colab_type": "code",
        "outputId": "62591d58-c47f-44dd-db96-72b557d24abd",
        "colab": {
          "base_uri": "https://localhost:8080/",
          "height": 1000
        }
      },
      "source": [
        "x_cols = [col for col in data.columns if col not in ['Severity'] and data[col].dtype=='float64']\n",
        "\n",
        "labels = []\n",
        "values = []\n",
        "for col in x_cols:\n",
        "    labels.append(col)\n",
        "    values.append(np.corrcoef(data[col].values, data.Severity.values)[0,1])\n",
        "corr_df = pd.DataFrame({'col_labels':labels, 'corr_values':values})\n",
        "corr_df = corr_df.sort_values(by='corr_values')\n",
        "\n",
        "ind = np.arange(len(labels))\n",
        "width = 0.9\n",
        "fig, ax = plt.subplots(figsize=(12,40))\n",
        "rects = ax.barh(ind, np.array(corr_df.corr_values.values), color='y')\n",
        "ax.set_yticks(ind)\n",
        "ax.set_yticklabels(corr_df.col_labels.values, rotation='horizontal')\n",
        "ax.set_xlabel(\"Correlation coefficient\")\n",
        "ax.set_title(\"Correlation coefficient of the variables\")\n",
        "plt.show()"
      ],
      "execution_count": 0,
      "outputs": [
        {
          "output_type": "display_data",
          "data": {
            "image/png": "[encoded data removed]",
            "text/plain": [
              "<Figure size 864x2880 with 1 Axes>"
            ]
          },
          "metadata": {
            "tags": [],
            "needs_background": "light"
          }
        }
      ]
    },
    {
      "cell_type": "code",
      "metadata": {
        "id": "dJZGO_gPhyAb",
        "colab_type": "code",
        "outputId": "3a850126-eba0-4912-af72-746383d21f35",
        "colab": {
          "base_uri": "https://localhost:8080/",
          "height": 106
        }
      },
      "source": [
        "corr_df_sel = corr_df.loc[(corr_df['corr_values']>0.05) | (corr_df['corr_values'] < -0.05)]\n",
        "corr_df_sel"
      ],
      "execution_count": 0,
      "outputs": [
        {
          "output_type": "execute_result",
          "data": {
            "text/html": [
              "<div>\n",
              "<style scoped>\n",
              "    .dataframe tbody tr th:only-of-type {\n",
              "        vertical-align: middle;\n",
              "    }\n",
              "\n",
              "    .dataframe tbody tr th {\n",
              "        vertical-align: top;\n",
              "    }\n",
              "\n",
              "    .dataframe thead th {\n",
              "        text-align: right;\n",
              "    }\n",
              "</style>\n",
              "<table border=\"1\" class=\"dataframe\">\n",
              "  <thead>\n",
              "    <tr style=\"text-align: right;\">\n",
              "      <th></th>\n",
              "      <th>col_labels</th>\n",
              "      <th>corr_values</th>\n",
              "    </tr>\n",
              "  </thead>\n",
              "  <tbody>\n",
              "    <tr>\n",
              "      <th>2</th>\n",
              "      <td>Start_Lng</td>\n",
              "      <td>0.055198</td>\n",
              "    </tr>\n",
              "    <tr>\n",
              "      <th>5</th>\n",
              "      <td>Distance(mi)</td>\n",
              "      <td>0.146393</td>\n",
              "    </tr>\n",
              "  </tbody>\n",
              "</table>\n",
              "</div>"
            ],
            "text/plain": [
              "     col_labels  corr_values\n",
              "2     Start_Lng     0.055198\n",
              "5  Distance(mi)     0.146393"
            ]
          },
          "metadata": {
            "tags": []
          },
          "execution_count": 16
        }
      ]
    },
    {
      "cell_type": "code",
      "metadata": {
        "id": "Z0IIjFHFosqf",
        "colab_type": "code",
        "colab": {}
      },
      "source": [
        "import pandas as pd\n",
        "from sklearn.model_selection import train_test_split\n",
        "from sklearn.naive_bayes import GaussianNB\n",
        "\n",
        "data = pd.read_csv('/content/drive/My Drive/US_Accidents_Dec19.csv')\n",
        "\n",
        "\n",
        "x1 = data.drop_duplicates()\n",
        "x1 = x1.dropna()\n",
        "y = x1.isnull().values.any()\n",
        "print(y)\n",
        "\n",
        "from sklearn.neighbors import KNeighborsClassifier\n",
        "\n",
        "X_train = x1.drop(\"Distance(mi)\", axis=1)\n",
        "Y_train = x1[\"Distance(mi)\"]\n",
        "\n",
        "X_test = X_train.drop(\"Side\", axis=1).copy()\n",
        "\n",
        "\n",
        "X_train, X_test, Y_train, Y_test = train_test_split(X_train, Y_train, test_size=0.4, random_state=0)\n",
        "\n",
        "nav = GaussianNB()\n",
        "y_pred = nav.fit(X_train, Y_train).predict(X_test)\n",
        "acc_knn = round(nav.score(X_train, Y_train) * 100, 2)\n",
        "print(\"NAV accuracy is:\", acc_knn)\n",
        "\n",
        "from sklearn.svm import SVC\n",
        "\n",
        "svc = SVC()\n",
        "svc.fit(X_train, Y_train)\n",
        "Y_pred = svc.predict(X_test)\n",
        "acc_svc = round(svc.score(X_train, Y_train) * 100, 2)\n",
        "print(\"svm accuracy is:\", acc_svc)\n"
      ],
      "execution_count": 0,
      "outputs": []
    }
  ]
}